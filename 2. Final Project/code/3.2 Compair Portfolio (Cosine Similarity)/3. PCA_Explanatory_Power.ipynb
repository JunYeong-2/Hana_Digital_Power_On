{
 "cells": [
  {
   "cell_type": "code",
   "execution_count": 10,
   "id": "ad6e0b12",
   "metadata": {},
   "outputs": [
    {
     "name": "stdout",
     "output_type": "stream",
     "text": [
      "정보 설명력 60%일 때의 변수 개수: 230\n",
      "정보 설명력 70%일 때의 변수 개수: 295\n",
      "정보 설명력 80%일 때의 변수 개수: 377\n"
     ]
    }
   ],
   "source": [
    "import numpy as np\n",
    "import pandas as pd\n",
    "from sklearn.decomposition import PCA\n",
    "\n",
    "# 952차원의 랜덤한 원-핫 인코딩 데이터 생성\n",
    "np.random.seed(42)\n",
    "num_samples = 1000\n",
    "num_dimensions = 950\n",
    "\n",
    "# 랜덤한 0 또는 1의 값을 갖는 952차원 벡터를 1000개 생성\n",
    "data = np.random.randint(2, size=(num_samples, num_dimensions))\n",
    "\n",
    "# 데이터프레임으로 변환\n",
    "columns = [f\"feature_{i}\" for i in range(1, num_dimensions + 1)]\n",
    "df = pd.DataFrame(data, columns=columns)\n",
    "\n",
    "# PCA 모델을 생성하고 데이터프레임을 변환\n",
    "pca = PCA()\n",
    "df_pca = pd.DataFrame(pca.fit_transform(df), columns=[f\"PC_{i}\" for i in range(1, num_dimensions + 1)])\n",
    "\n",
    "# 정보 설명력이 60%, 70%, 80%일 때의 변수 개수 계산\n",
    "cumulative_variance_ratio = np.cumsum(pca.explained_variance_ratio_)\n",
    "num_components_60_percent = np.argmax(cumulative_variance_ratio >= 0.6) + 1\n",
    "num_components_70_percent = np.argmax(cumulative_variance_ratio >= 0.7) + 1\n",
    "num_components_80_percent = np.argmax(cumulative_variance_ratio >= 0.8) + 1\n",
    "\n",
    "print(f\"정보 설명력 60%일 때의 변수 개수: {num_components_60_percent}\")\n",
    "print(f\"정보 설명력 70%일 때의 변수 개수: {num_components_70_percent}\")\n",
    "print(f\"정보 설명력 80%일 때의 변수 개수: {num_components_80_percent}\")\n"
   ]
  },
  {
   "cell_type": "code",
   "execution_count": 9,
   "id": "4973270a",
   "metadata": {},
   "outputs": [
    {
     "name": "stdout",
     "output_type": "stream",
     "text": [
      "정보 설명력 60%일 때의 변수 개수: 291\n",
      "정보 설명력 70%일 때의 변수 개수: 370\n",
      "정보 설명력 80%일 때의 변수 개수: 471\n"
     ]
    }
   ],
   "source": [
    "import numpy as np\n",
    "import pandas as pd\n",
    "from sklearn.decomposition import PCA\n",
    "\n",
    "# 952차원의 랜덤한 원-핫 인코딩 데이터 생성\n",
    "np.random.seed(42)\n",
    "num_samples = 1700  # 데이터 개수 변경\n",
    "num_dimensions = 952\n",
    "\n",
    "# 랜덤한 0 또는 1의 값을 갖는 952차원 벡터를 1462개 생성\n",
    "data = np.random.randint(2, size=(num_samples, num_dimensions))\n",
    "\n",
    "# 데이터프레임으로 변환\n",
    "columns = [f\"feature_{i}\" for i in range(1, num_dimensions + 1)]\n",
    "df = pd.DataFrame(data, columns=columns)\n",
    "\n",
    "# PCA 모델을 생성하고 데이터프레임을 변환\n",
    "pca = PCA()\n",
    "df_pca = pd.DataFrame(pca.fit_transform(df), columns=[f\"PC_{i}\" for i in range(1, num_dimensions + 1)])\n",
    "\n",
    "# 정보 설명력이 60%, 70%, 80%일 때의 변수 개수 계산\n",
    "cumulative_variance_ratio = np.cumsum(pca.explained_variance_ratio_)\n",
    "num_components_60_percent = np.argmax(cumulative_variance_ratio >= 0.6) + 1\n",
    "num_components_70_percent = np.argmax(cumulative_variance_ratio >= 0.7) + 1\n",
    "num_components_80_percent = np.argmax(cumulative_variance_ratio >= 0.8) + 1\n",
    "\n",
    "print(f\"정보 설명력 60%일 때의 변수 개수: {num_components_60_percent}\")\n",
    "print(f\"정보 설명력 70%일 때의 변수 개수: {num_components_70_percent}\")\n",
    "print(f\"정보 설명력 80%일 때의 변수 개수: {num_components_80_percent}\")\n"
   ]
  },
  {
   "cell_type": "code",
   "execution_count": null,
   "id": "43152900",
   "metadata": {},
   "outputs": [],
   "source": []
  }
 ],
 "metadata": {
  "kernelspec": {
   "display_name": "ves1",
   "language": "python",
   "name": "ves1"
  },
  "language_info": {
   "codemirror_mode": {
    "name": "ipython",
    "version": 3
   },
   "file_extension": ".py",
   "mimetype": "text/x-python",
   "name": "python",
   "nbconvert_exporter": "python",
   "pygments_lexer": "ipython3",
   "version": "3.8.16"
  }
 },
 "nbformat": 4,
 "nbformat_minor": 5
}
